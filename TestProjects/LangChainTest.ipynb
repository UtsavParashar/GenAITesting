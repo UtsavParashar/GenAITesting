{
 "cells": [
  {
   "cell_type": "code",
   "execution_count": 6,
   "metadata": {},
   "outputs": [],
   "source": [
    "import os\n",
    "from openai import OpenAI\n",
    "\n",
    "client = OpenAI(\n",
    "    base_url=\"https://models.inference.ai.azure.com\",\n",
    "    api_key=os.environ[\"GITHUB_TOKEN\"],\n",
    ")\n"
   ]
  },
  {
   "cell_type": "code",
   "execution_count": 7,
   "metadata": {},
   "outputs": [
    {
     "name": "stdout",
     "output_type": "stream",
     "text": [
      "The capital of India is **New Delhi**.\n"
     ]
    }
   ],
   "source": [
    "# response = client.chat.completions.create(\n",
    "#     messages=[\n",
    "#         {\n",
    "#             \"role\": \"system\",\n",
    "#             \"content\": \"\",\n",
    "#         },\n",
    "#         {\n",
    "#             \"role\": \"user\",\n",
    "#             \"content\": \"What is the capital of India?\",\n",
    "#         }\n",
    "#     ],\n",
    "#     model=\"gpt-4o\",\n",
    "#     temperature=0.1,\n",
    "#     max_tokens=4096,\n",
    "#     top_p=1\n",
    "# )\n",
    "\n",
    "#print(response.choices[0].message.content)"
   ]
  },
  {
   "cell_type": "code",
   "execution_count": 12,
   "metadata": {},
   "outputs": [],
   "source": [
    "# Create a chat completion request to get a name suggestion for the chatbot\n",
    "\n",
    "def get_response(message):\n",
    "    response =  client.chat.completions.create(\n",
    "        messages=[\n",
    "\t\t{\n",
    "\t\t\t\"role\": \"user\",\n",
    "\t\t\t\"content\": f\"{message}\",\n",
    "\t\t}\n",
    "\t],\n",
    "        model=\"gpt-4o\",\n",
    "        temperature=0.6,\n",
    "        max_tokens=4096,\n",
    "        top_p=1\n",
    "    )\n",
    "    return response.choices[0].message.content\n",
    "\n"
   ]
  },
  {
   "cell_type": "code",
   "execution_count": 13,
   "metadata": {},
   "outputs": [
    {
     "data": {
      "text/plain": [
       "'Certainly! Here are a few formal and professional name suggestions for your data management project chatbot:\\n\\n1. **DataSphere**  \\n2. **InfoLynx**  \\n3. **DataVista**  \\n4. **QueryPro**  \\n5. **InsightBot**  \\n6. **NexusAI**  \\n7. **DataCrest**  \\n8. **InfoEdge**  \\n9. **Lexis** (derived from \"lexicon\")  \\n10. **DatumBot**  \\n\\nThese names convey professionalism and align with the theme of data management and information handling. Let me know if you\\'d like further suggestions!'"
      ]
     },
     "execution_count": 13,
     "metadata": {},
     "output_type": "execute_result"
    }
   ],
   "source": [
    "# Extract the name suggestion from the response\n",
    "get_response(\"We want to name the chatbot for a Data management project. Could you please suggest a formal and professional name for the chatbot?\") "
   ]
  },
  {
   "cell_type": "code",
   "execution_count": null,
   "metadata": {},
   "outputs": [],
   "source": []
  }
 ],
 "metadata": {
  "kernelspec": {
   "display_name": "Python 3",
   "language": "python",
   "name": "python3"
  },
  "language_info": {
   "codemirror_mode": {
    "name": "ipython",
    "version": 3
   },
   "file_extension": ".py",
   "mimetype": "text/x-python",
   "name": "python",
   "nbconvert_exporter": "python",
   "pygments_lexer": "ipython3",
   "version": "3.11.9"
  }
 },
 "nbformat": 4,
 "nbformat_minor": 2
}
