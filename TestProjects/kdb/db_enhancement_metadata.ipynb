{
 "cells": [
  {
   "cell_type": "code",
   "execution_count": null,
   "metadata": {},
   "outputs": [
    {
     "name": "stdout",
     "output_type": "stream",
     "text": [
      "[]\n"
     ]
    }
   ],
   "source": [
    "import kdbai_client as kdbai\n",
    "# YOUR_INSTANCE_ID = 'test'\n",
    "# YOUR_API_KEY = 'test'\n",
    "session = kdbai.Session(endpoint=f\"https://cloud.kdb.ai/instance/{YOUR_INSTANCE_ID}\", api_key=f\"{YOUR_API_KEY}\")\n",
    "\n",
    "# create reference to default database\n",
    "db = session.database('default')\n",
    "print(db.tables)"
   ]
  },
  {
   "cell_type": "code",
   "execution_count": 10,
   "metadata": {},
   "outputs": [],
   "source": [
    "import pandas as pd \n",
    "import numpy as np\n",
    "from pandasai import SmartDataframe\n",
    "from pandasai.llm.openai import OpenAI\n",
    "import os\n",
    "from getpass import getpass"
   ]
  },
  {
   "cell_type": "code",
   "execution_count": 3,
   "metadata": {},
   "outputs": [],
   "source": [
    "os.environ['OPENAI_API_KEY'] = 'test'"
   ]
  },
  {
   "cell_type": "code",
   "execution_count": 4,
   "metadata": {},
   "outputs": [],
   "source": [
    "llm = OpenAI(model='gpt-4o', api_token=os.environ['OPENAI_API_KEY'])"
   ]
  },
  {
   "cell_type": "markdown",
   "metadata": {},
   "source": [
    "### Data Import and Exploration with PandasAI\n",
    "#### Import Movies dataframe"
   ]
  },
  {
   "cell_type": "code",
   "execution_count": 5,
   "metadata": {},
   "outputs": [
    {
     "name": "stdout",
     "output_type": "stream",
     "text": [
      "<class 'pandas.core.frame.DataFrame'>\n",
      "RangeIndex: 19161 entries, 0 to 19160\n",
      "Data columns (total 8 columns):\n",
      " #   Column       Non-Null Count  Dtype \n",
      "---  ------       --------------  ----- \n",
      " 0   ReleaseYear  19161 non-null  int64 \n",
      " 1   Title        19161 non-null  object\n",
      " 2   Origin       19161 non-null  object\n",
      " 3   Director     19161 non-null  object\n",
      " 4   Cast         19161 non-null  object\n",
      " 5   Genre        19161 non-null  object\n",
      " 6   Plot         19161 non-null  object\n",
      " 7   embeddings   19161 non-null  object\n",
      "dtypes: int64(1), object(7)\n",
      "memory usage: 1.2+ MB\n"
     ]
    }
   ],
   "source": [
    "df = pd.read_pickle('../../data/filtered_embedded_movies.pkl')\n",
    "df.info()"
   ]
  },
  {
   "cell_type": "code",
   "execution_count": 6,
   "metadata": {},
   "outputs": [
    {
     "data": {
      "text/plain": [
       "(19161, 8)"
      ]
     },
     "execution_count": 6,
     "metadata": {},
     "output_type": "execute_result"
    }
   ],
   "source": [
    "df.shape"
   ]
  },
  {
   "cell_type": "code",
   "execution_count": 7,
   "metadata": {},
   "outputs": [
    {
     "data": {
      "text/html": [
       "<div>\n",
       "<style scoped>\n",
       "    .dataframe tbody tr th:only-of-type {\n",
       "        vertical-align: middle;\n",
       "    }\n",
       "\n",
       "    .dataframe tbody tr th {\n",
       "        vertical-align: top;\n",
       "    }\n",
       "\n",
       "    .dataframe thead th {\n",
       "        text-align: right;\n",
       "    }\n",
       "</style>\n",
       "<table border=\"1\" class=\"dataframe\">\n",
       "  <thead>\n",
       "    <tr style=\"text-align: right;\">\n",
       "      <th></th>\n",
       "      <th>ReleaseYear</th>\n",
       "      <th>Title</th>\n",
       "      <th>Origin</th>\n",
       "      <th>Director</th>\n",
       "      <th>Cast</th>\n",
       "      <th>Genre</th>\n",
       "      <th>Plot</th>\n",
       "      <th>embeddings</th>\n",
       "    </tr>\n",
       "  </thead>\n",
       "  <tbody>\n",
       "    <tr>\n",
       "      <th>0</th>\n",
       "      <td>1975</td>\n",
       "      <td>The Candy Tangerine Man</td>\n",
       "      <td>American</td>\n",
       "      <td>Matt Cimber</td>\n",
       "      <td>John Daniels Eli Haines Tom Hankason</td>\n",
       "      <td>action</td>\n",
       "      <td>A successful Los Angeles-based businessperson ...</td>\n",
       "      <td>[-0.06835174, -0.013138616, -0.12417501, 0.002...</td>\n",
       "    </tr>\n",
       "    <tr>\n",
       "      <th>1</th>\n",
       "      <td>1975</td>\n",
       "      <td>Capone</td>\n",
       "      <td>American</td>\n",
       "      <td>Steve Carver</td>\n",
       "      <td>Ben Gazzara Susan Blakely John Cassavetes Sylv...</td>\n",
       "      <td>crime drama</td>\n",
       "      <td>The story is of the rise and fall of the Chica...</td>\n",
       "      <td>[-0.01411798, 0.040705115, -0.0014280609, 0.00...</td>\n",
       "    </tr>\n",
       "    <tr>\n",
       "      <th>2</th>\n",
       "      <td>1975</td>\n",
       "      <td>Cleopatra Jones and the Casino of Gold</td>\n",
       "      <td>American</td>\n",
       "      <td>Charles Bail</td>\n",
       "      <td>Tamara Dobson Stella Stevens</td>\n",
       "      <td>action</td>\n",
       "      <td>The story begins with two government agents Ma...</td>\n",
       "      <td>[-0.0925895, 0.01188509, -0.08999529, -0.01541...</td>\n",
       "    </tr>\n",
       "    <tr>\n",
       "      <th>3</th>\n",
       "      <td>1975</td>\n",
       "      <td>Conduct Unbecoming</td>\n",
       "      <td>American</td>\n",
       "      <td>Michael Anderson</td>\n",
       "      <td>Stacy Keach Richard Attenborough Christopher P...</td>\n",
       "      <td>drama</td>\n",
       "      <td>Around 1880 two young British officers arrive ...</td>\n",
       "      <td>[-0.07435084, -0.06386179, 0.017042944, 0.0288...</td>\n",
       "    </tr>\n",
       "    <tr>\n",
       "      <th>4</th>\n",
       "      <td>1975</td>\n",
       "      <td>Cooley High</td>\n",
       "      <td>American</td>\n",
       "      <td>Michael Schultz</td>\n",
       "      <td>Lawrence Hilton-Jacobs Glynn Turman Garrett Mo...</td>\n",
       "      <td>comedy</td>\n",
       "      <td>Set in 1964 Chicago Preach an aspiring playwri...</td>\n",
       "      <td>[-0.041632336, 0.037923656, -0.072276264, -0.0...</td>\n",
       "    </tr>\n",
       "  </tbody>\n",
       "</table>\n",
       "</div>"
      ],
      "text/plain": [
       "   ReleaseYear                                   Title    Origin  \\\n",
       "0         1975                 The Candy Tangerine Man  American   \n",
       "1         1975                                  Capone  American   \n",
       "2         1975  Cleopatra Jones and the Casino of Gold  American   \n",
       "3         1975                      Conduct Unbecoming  American   \n",
       "4         1975                             Cooley High  American   \n",
       "\n",
       "           Director                                               Cast  \\\n",
       "0       Matt Cimber               John Daniels Eli Haines Tom Hankason   \n",
       "1      Steve Carver  Ben Gazzara Susan Blakely John Cassavetes Sylv...   \n",
       "2      Charles Bail                       Tamara Dobson Stella Stevens   \n",
       "3  Michael Anderson  Stacy Keach Richard Attenborough Christopher P...   \n",
       "4   Michael Schultz  Lawrence Hilton-Jacobs Glynn Turman Garrett Mo...   \n",
       "\n",
       "         Genre                                               Plot  \\\n",
       "0       action  A successful Los Angeles-based businessperson ...   \n",
       "1  crime drama  The story is of the rise and fall of the Chica...   \n",
       "2       action  The story begins with two government agents Ma...   \n",
       "3        drama  Around 1880 two young British officers arrive ...   \n",
       "4       comedy  Set in 1964 Chicago Preach an aspiring playwri...   \n",
       "\n",
       "                                          embeddings  \n",
       "0  [-0.06835174, -0.013138616, -0.12417501, 0.002...  \n",
       "1  [-0.01411798, 0.040705115, -0.0014280609, 0.00...  \n",
       "2  [-0.0925895, 0.01188509, -0.08999529, -0.01541...  \n",
       "3  [-0.07435084, -0.06386179, 0.017042944, 0.0288...  \n",
       "4  [-0.041632336, 0.037923656, -0.072276264, -0.0...  "
      ]
     },
     "execution_count": 7,
     "metadata": {},
     "output_type": "execute_result"
    }
   ],
   "source": [
    "df.head()"
   ]
  },
  {
   "cell_type": "code",
   "execution_count": 8,
   "metadata": {},
   "outputs": [],
   "source": [
    "#df_pandas = SmartDataframe(df, config={'llm': llm})"
   ]
  },
  {
   "cell_type": "code",
   "execution_count": 11,
   "metadata": {},
   "outputs": [
    {
     "data": {
      "text/plain": [
       "\"Unfortunately, I was not able to get your answers, because of the following error:\\n\\nunhashable type: 'numpy.ndarray'\\n\""
      ]
     },
     "execution_count": 11,
     "metadata": {},
     "output_type": "execute_result"
    }
   ],
   "source": [
    "#df_pandas.chat('Which director has directed the most movies?')"
   ]
  },
  {
   "cell_type": "code",
   "execution_count": 15,
   "metadata": {},
   "outputs": [
    {
     "data": {
      "text/html": [
       "<div>\n",
       "<style scoped>\n",
       "    .dataframe tbody tr th:only-of-type {\n",
       "        vertical-align: middle;\n",
       "    }\n",
       "\n",
       "    .dataframe tbody tr th {\n",
       "        vertical-align: top;\n",
       "    }\n",
       "\n",
       "    .dataframe thead th {\n",
       "        text-align: right;\n",
       "    }\n",
       "</style>\n",
       "<table border=\"1\" class=\"dataframe\">\n",
       "  <thead>\n",
       "    <tr style=\"text-align: right;\">\n",
       "      <th></th>\n",
       "      <th>Origin</th>\n",
       "      <th>Genre</th>\n",
       "      <th>embeddings</th>\n",
       "    </tr>\n",
       "  </thead>\n",
       "  <tbody>\n",
       "    <tr>\n",
       "      <th>196</th>\n",
       "      <td>American</td>\n",
       "      <td>comedy</td>\n",
       "      <td>1612</td>\n",
       "    </tr>\n",
       "    <tr>\n",
       "      <th>281</th>\n",
       "      <td>American</td>\n",
       "      <td>drama</td>\n",
       "      <td>1463</td>\n",
       "    </tr>\n",
       "    <tr>\n",
       "      <th>1303</th>\n",
       "      <td>British</td>\n",
       "      <td>drama</td>\n",
       "      <td>728</td>\n",
       "    </tr>\n",
       "    <tr>\n",
       "      <th>1266</th>\n",
       "      <td>British</td>\n",
       "      <td>comedy</td>\n",
       "      <td>664</td>\n",
       "    </tr>\n",
       "    <tr>\n",
       "      <th>377</th>\n",
       "      <td>American</td>\n",
       "      <td>horror</td>\n",
       "      <td>575</td>\n",
       "    </tr>\n",
       "    <tr>\n",
       "      <th>...</th>\n",
       "      <td>...</td>\n",
       "      <td>...</td>\n",
       "      <td>...</td>\n",
       "    </tr>\n",
       "    <tr>\n",
       "      <th>1167</th>\n",
       "      <td>Bollywood</td>\n",
       "      <td>social biopic</td>\n",
       "      <td>1</td>\n",
       "    </tr>\n",
       "    <tr>\n",
       "      <th>1168</th>\n",
       "      <td>Bollywood</td>\n",
       "      <td>social children</td>\n",
       "      <td>1</td>\n",
       "    </tr>\n",
       "    <tr>\n",
       "      <th>1169</th>\n",
       "      <td>Bollywood</td>\n",
       "      <td>social children drama</td>\n",
       "      <td>1</td>\n",
       "    </tr>\n",
       "    <tr>\n",
       "      <th>1170</th>\n",
       "      <td>Bollywood</td>\n",
       "      <td>social comedy</td>\n",
       "      <td>1</td>\n",
       "    </tr>\n",
       "    <tr>\n",
       "      <th>2914</th>\n",
       "      <td>Turkish</td>\n",
       "      <td>thriller</td>\n",
       "      <td>1</td>\n",
       "    </tr>\n",
       "  </tbody>\n",
       "</table>\n",
       "<p>2915 rows × 3 columns</p>\n",
       "</div>"
      ],
      "text/plain": [
       "         Origin                  Genre  embeddings\n",
       "196    American                 comedy        1612\n",
       "281    American                  drama        1463\n",
       "1303    British                  drama         728\n",
       "1266    British                 comedy         664\n",
       "377    American                 horror         575\n",
       "...         ...                    ...         ...\n",
       "1167  Bollywood          social biopic           1\n",
       "1168  Bollywood        social children           1\n",
       "1169  Bollywood  social children drama           1\n",
       "1170  Bollywood          social comedy           1\n",
       "2914    Turkish               thriller           1\n",
       "\n",
       "[2915 rows x 3 columns]"
      ]
     },
     "execution_count": 15,
     "metadata": {},
     "output_type": "execute_result"
    }
   ],
   "source": [
    "df.groupby(['Origin','Genre'], as_index=False)[['embeddings']].count().sort_values(by='embeddings', ascending=False)"
   ]
  },
  {
   "cell_type": "code",
   "execution_count": 31,
   "metadata": {},
   "outputs": [
    {
     "data": {
      "text/html": [
       "<div>\n",
       "<style scoped>\n",
       "    .dataframe tbody tr th:only-of-type {\n",
       "        vertical-align: middle;\n",
       "    }\n",
       "\n",
       "    .dataframe tbody tr th {\n",
       "        vertical-align: top;\n",
       "    }\n",
       "\n",
       "    .dataframe thead th {\n",
       "        text-align: right;\n",
       "    }\n",
       "</style>\n",
       "<table border=\"1\" class=\"dataframe\">\n",
       "  <thead>\n",
       "    <tr style=\"text-align: right;\">\n",
       "      <th></th>\n",
       "      <th>ReleaseYear</th>\n",
       "      <th>Title</th>\n",
       "      <th>Origin</th>\n",
       "      <th>Director</th>\n",
       "      <th>Cast</th>\n",
       "      <th>Genre</th>\n",
       "      <th>Plot</th>\n",
       "      <th>embeddings</th>\n",
       "    </tr>\n",
       "  </thead>\n",
       "  <tbody>\n",
       "    <tr>\n",
       "      <th>15652</th>\n",
       "      <td>2017</td>\n",
       "      <td>Haraamkhor</td>\n",
       "      <td>Bollywood</td>\n",
       "      <td>Shlok Sharma</td>\n",
       "      <td>Nawazuddin Siddiqui &amp; Shweta Tripathi</td>\n",
       "      <td>comedy/crime</td>\n",
       "      <td>Shyam is a teacher at a small school in a tiny...</td>\n",
       "      <td>[0.0013290972, -0.020112343, -0.016725577, 0.0...</td>\n",
       "    </tr>\n",
       "    <tr>\n",
       "      <th>15653</th>\n",
       "      <td>2017</td>\n",
       "      <td>Ok Jaanu</td>\n",
       "      <td>Bollywood</td>\n",
       "      <td>Shaad Ali</td>\n",
       "      <td>Aditya Roy Kapur &amp; Shraddha Kapoor</td>\n",
       "      <td>romance/drama</td>\n",
       "      <td>Adi (Aditya Roy Kapur) is a video game develop...</td>\n",
       "      <td>[-0.06883443, -0.017781533, -0.048946954, 0.03...</td>\n",
       "    </tr>\n",
       "    <tr>\n",
       "      <th>15654</th>\n",
       "      <td>2017</td>\n",
       "      <td>Coffee with D</td>\n",
       "      <td>Bollywood</td>\n",
       "      <td>Vishal Mishra</td>\n",
       "      <td>Sunil Grover &amp; Zakir Hussain</td>\n",
       "      <td>comedy/crime</td>\n",
       "      <td>Arnab Ghosh (Sunil Grover) is Senior Editor an...</td>\n",
       "      <td>[-0.08984386, -0.040139645, -0.07223931, -0.09...</td>\n",
       "    </tr>\n",
       "    <tr>\n",
       "      <th>15655</th>\n",
       "      <td>2017</td>\n",
       "      <td>Kaabil</td>\n",
       "      <td>Bollywood</td>\n",
       "      <td>Sanjay Gupta</td>\n",
       "      <td>Hrithik Roshan &amp; Yami Gautam</td>\n",
       "      <td>action/thriller</td>\n",
       "      <td>Rohan Bhatnagar (Hrithik Roshan) is a kind hap...</td>\n",
       "      <td>[-0.09506925, 0.06346472, -0.04290516, 0.00807...</td>\n",
       "    </tr>\n",
       "    <tr>\n",
       "      <th>15656</th>\n",
       "      <td>2017</td>\n",
       "      <td>Raees</td>\n",
       "      <td>Bollywood</td>\n",
       "      <td>Rahul Dholakia</td>\n",
       "      <td>Shah Rukh Khan Mahira Khan &amp; Nawazuddin Siddiqui</td>\n",
       "      <td>crime/action</td>\n",
       "      <td>The film takes begins in the mid-1960s and end...</td>\n",
       "      <td>[-0.066668995, 0.03509158, -0.084430814, -0.00...</td>\n",
       "    </tr>\n",
       "    <tr>\n",
       "      <th>...</th>\n",
       "      <td>...</td>\n",
       "      <td>...</td>\n",
       "      <td>...</td>\n",
       "      <td>...</td>\n",
       "      <td>...</td>\n",
       "      <td>...</td>\n",
       "      <td>...</td>\n",
       "      <td>...</td>\n",
       "    </tr>\n",
       "    <tr>\n",
       "      <th>15730</th>\n",
       "      <td>2017</td>\n",
       "      <td>Kadvi Hawa</td>\n",
       "      <td>Bollywood</td>\n",
       "      <td>Nila Madhab Panda</td>\n",
       "      <td>Sanjay Mishra Ranvir Shorey Tillotama Shome Bu...</td>\n",
       "      <td>drama/disaster</td>\n",
       "      <td>The film is based on true stories from drought...</td>\n",
       "      <td>[0.0043952162, 0.023996439, 0.010095879, 0.077...</td>\n",
       "    </tr>\n",
       "    <tr>\n",
       "      <th>15731</th>\n",
       "      <td>2017</td>\n",
       "      <td>Rajiv Dhingra</td>\n",
       "      <td>Bollywood</td>\n",
       "      <td>Kapil Sharma Varun Badola &amp; Edward Sonnenblick</td>\n",
       "      <td>Comedy</td>\n",
       "      <td>k9 films</td>\n",
       "      <td>In the 1920s Manga (Kapil Sharma) is an uneduc...</td>\n",
       "      <td>[-0.108357124, 0.021112945, -0.063381724, -0.0...</td>\n",
       "    </tr>\n",
       "    <tr>\n",
       "      <th>15732</th>\n",
       "      <td>2017</td>\n",
       "      <td>Fukrey Returns</td>\n",
       "      <td>Bollywood</td>\n",
       "      <td>Mrighdeep Singh Lamba</td>\n",
       "      <td>Pulkit Samrat Priya Anand &amp; Varun Sharma</td>\n",
       "      <td>comedy</td>\n",
       "      <td>After their admission in college Hunny Choocha...</td>\n",
       "      <td>[-0.054787252, 0.048834715, -0.0826604, -0.008...</td>\n",
       "    </tr>\n",
       "    <tr>\n",
       "      <th>15733</th>\n",
       "      <td>2017</td>\n",
       "      <td>Monsoon Shootout</td>\n",
       "      <td>Bollywood</td>\n",
       "      <td>Amit Kumar</td>\n",
       "      <td>Nawazuddin Siddiqui Vijay Varma &amp; Tannishtha C...</td>\n",
       "      <td>crime/thriller</td>\n",
       "      <td>As the raging monsoon lashes Mumbai the commer...</td>\n",
       "      <td>[-0.017097065, 0.051979236, -0.017915348, 0.06...</td>\n",
       "    </tr>\n",
       "    <tr>\n",
       "      <th>15734</th>\n",
       "      <td>2017</td>\n",
       "      <td>Tiger Zinda Hai</td>\n",
       "      <td>Bollywood</td>\n",
       "      <td>Ali Abbas Zafar</td>\n",
       "      <td>Salman Khan &amp; Katrina Kaif</td>\n",
       "      <td>action/drama</td>\n",
       "      <td>During a dark night in Iraq an American journa...</td>\n",
       "      <td>[-0.06913219, 0.01603526, -0.01602167, 0.05703...</td>\n",
       "    </tr>\n",
       "  </tbody>\n",
       "</table>\n",
       "<p>83 rows × 8 columns</p>\n",
       "</div>"
      ],
      "text/plain": [
       "       ReleaseYear             Title     Origin  \\\n",
       "15652         2017        Haraamkhor  Bollywood   \n",
       "15653         2017          Ok Jaanu  Bollywood   \n",
       "15654         2017     Coffee with D  Bollywood   \n",
       "15655         2017            Kaabil  Bollywood   \n",
       "15656         2017             Raees  Bollywood   \n",
       "...            ...               ...        ...   \n",
       "15730         2017        Kadvi Hawa  Bollywood   \n",
       "15731         2017     Rajiv Dhingra  Bollywood   \n",
       "15732         2017    Fukrey Returns  Bollywood   \n",
       "15733         2017  Monsoon Shootout  Bollywood   \n",
       "15734         2017   Tiger Zinda Hai  Bollywood   \n",
       "\n",
       "                                             Director  \\\n",
       "15652                                    Shlok Sharma   \n",
       "15653                                       Shaad Ali   \n",
       "15654                                   Vishal Mishra   \n",
       "15655                                    Sanjay Gupta   \n",
       "15656                                  Rahul Dholakia   \n",
       "...                                               ...   \n",
       "15730                               Nila Madhab Panda   \n",
       "15731  Kapil Sharma Varun Badola & Edward Sonnenblick   \n",
       "15732                           Mrighdeep Singh Lamba   \n",
       "15733                                      Amit Kumar   \n",
       "15734                                 Ali Abbas Zafar   \n",
       "\n",
       "                                                    Cast            Genre  \\\n",
       "15652              Nawazuddin Siddiqui & Shweta Tripathi     comedy/crime   \n",
       "15653                 Aditya Roy Kapur & Shraddha Kapoor    romance/drama   \n",
       "15654                       Sunil Grover & Zakir Hussain     comedy/crime   \n",
       "15655                       Hrithik Roshan & Yami Gautam  action/thriller   \n",
       "15656   Shah Rukh Khan Mahira Khan & Nawazuddin Siddiqui     crime/action   \n",
       "...                                                  ...              ...   \n",
       "15730  Sanjay Mishra Ranvir Shorey Tillotama Shome Bu...   drama/disaster   \n",
       "15731                                             Comedy         k9 films   \n",
       "15732           Pulkit Samrat Priya Anand & Varun Sharma           comedy   \n",
       "15733  Nawazuddin Siddiqui Vijay Varma & Tannishtha C...   crime/thriller   \n",
       "15734                         Salman Khan & Katrina Kaif     action/drama   \n",
       "\n",
       "                                                    Plot  \\\n",
       "15652  Shyam is a teacher at a small school in a tiny...   \n",
       "15653  Adi (Aditya Roy Kapur) is a video game develop...   \n",
       "15654  Arnab Ghosh (Sunil Grover) is Senior Editor an...   \n",
       "15655  Rohan Bhatnagar (Hrithik Roshan) is a kind hap...   \n",
       "15656  The film takes begins in the mid-1960s and end...   \n",
       "...                                                  ...   \n",
       "15730  The film is based on true stories from drought...   \n",
       "15731  In the 1920s Manga (Kapil Sharma) is an uneduc...   \n",
       "15732  After their admission in college Hunny Choocha...   \n",
       "15733  As the raging monsoon lashes Mumbai the commer...   \n",
       "15734  During a dark night in Iraq an American journa...   \n",
       "\n",
       "                                              embeddings  \n",
       "15652  [0.0013290972, -0.020112343, -0.016725577, 0.0...  \n",
       "15653  [-0.06883443, -0.017781533, -0.048946954, 0.03...  \n",
       "15654  [-0.08984386, -0.040139645, -0.07223931, -0.09...  \n",
       "15655  [-0.09506925, 0.06346472, -0.04290516, 0.00807...  \n",
       "15656  [-0.066668995, 0.03509158, -0.084430814, -0.00...  \n",
       "...                                                  ...  \n",
       "15730  [0.0043952162, 0.023996439, 0.010095879, 0.077...  \n",
       "15731  [-0.108357124, 0.021112945, -0.063381724, -0.0...  \n",
       "15732  [-0.054787252, 0.048834715, -0.0826604, -0.008...  \n",
       "15733  [-0.017097065, 0.051979236, -0.017915348, 0.06...  \n",
       "15734  [-0.06913219, 0.01603526, -0.01602167, 0.05703...  \n",
       "\n",
       "[83 rows x 8 columns]"
      ]
     },
     "execution_count": 31,
     "metadata": {},
     "output_type": "execute_result"
    }
   ],
   "source": [
    "df.query('Origin == \"Bollywood\" and ReleaseYear>2015' )"
   ]
  },
  {
   "cell_type": "markdown",
   "metadata": {},
   "source": [
    "## Setup Vector DB and understand the data"
   ]
  },
  {
   "cell_type": "code",
   "execution_count": 16,
   "metadata": {},
   "outputs": [],
   "source": [
    "import time"
   ]
  },
  {
   "cell_type": "code",
   "execution_count": 20,
   "metadata": {},
   "outputs": [],
   "source": [
    "table_schema = [\n",
    "    {\"name\": \"ReleaseYear\", \"type\": \"int64\"},\n",
    "    {\"name\": \"Title\", \"type\": \"bytes\"},\n",
    "    {\"name\": \"Origin\", \"type\": \"str\"},\n",
    "    {\"name\": \"Director\", \"type\": \"bytes\"},\n",
    "    {\"name\": \"Cast\", \"type\": \"bytes\"},\n",
    "    {\"name\": \"Genre\", \"type\": \"str\"},\n",
    "    {\"name\": \"Plot\", \"type\": \"bytes\"},\n",
    "    {\"name\": \"embeddings\", \"type\": \"float64s\"}\n",
    "]\n",
    "\n",
    "indexes = [\n",
    "    {\n",
    "        \"name\": \"flat_index\",\n",
    "        \"type\": \"flat\",\n",
    "        \"column\": \"embeddings\",\n",
    "        \"params\": {\"dims\": 384, \"metric\": \"L2\"},\n",
    "    }\n",
    "]"
   ]
  },
  {
   "cell_type": "code",
   "execution_count": 21,
   "metadata": {},
   "outputs": [],
   "source": [
    "db = session.database('default')\n",
    "table = db.create_table('metadata_demo', schema=table_schema, indexes=indexes)"
   ]
  },
  {
   "cell_type": "code",
   "execution_count": 22,
   "metadata": {},
   "outputs": [
    {
     "name": "stderr",
     "output_type": "stream",
     "text": [
      "100%|██████████| 10/10 [01:03<00:00,  6.35s/it]\n"
     ]
    }
   ],
   "source": [
    "# Insert the data into the table, split into 2000 row batches\n",
    "from tqdm import tqdm\n",
    "n = 2000 # chunk row size\n",
    "\n",
    "# convert empty cast values to string form from backend. Here we are susing value 'None' for empty cast values\n",
    "for index, row in df.iterrows():\n",
    "    cast = row['Cast']\n",
    "    if 1 == len(cast):\n",
    "        df.loc[index, 'Cast'] = 'None'\n",
    "\n",
    "for i in tqdm(range(0, len(df), n)):\n",
    "    data = df[i:i+n].reset_index(drop=True)\n",
    "    # change data types as per the table schema\n",
    "    data['Title'] = data['Title'].str.encode('utf-8')\n",
    "    data['Director'] = data['Director'].str.encode('utf-8')\n",
    "    data['Cast'] = data['Cast'].str.encode('utf-8')\n",
    "    data['Plot'] = data['Plot'].str.encode('utf-8')\n",
    "    table.insert(data)"
   ]
  },
  {
   "cell_type": "code",
   "execution_count": 23,
   "metadata": {},
   "outputs": [],
   "source": [
    "#function to view the dataframe within the table\n",
    "def show_df(df: pd.DataFrame) -> pd.DataFrame:\n",
    "    print(df.shape)\n",
    "    return df.head()"
   ]
  },
  {
   "cell_type": "code",
   "execution_count": 24,
   "metadata": {},
   "outputs": [
    {
     "name": "stdout",
     "output_type": "stream",
     "text": [
      "(19161, 8)\n"
     ]
    },
    {
     "data": {
      "text/html": [
       "<div>\n",
       "<style scoped>\n",
       "    .dataframe tbody tr th:only-of-type {\n",
       "        vertical-align: middle;\n",
       "    }\n",
       "\n",
       "    .dataframe tbody tr th {\n",
       "        vertical-align: top;\n",
       "    }\n",
       "\n",
       "    .dataframe thead th {\n",
       "        text-align: right;\n",
       "    }\n",
       "</style>\n",
       "<table border=\"1\" class=\"dataframe\">\n",
       "  <thead>\n",
       "    <tr style=\"text-align: right;\">\n",
       "      <th></th>\n",
       "      <th>ReleaseYear</th>\n",
       "      <th>Title</th>\n",
       "      <th>Origin</th>\n",
       "      <th>Director</th>\n",
       "      <th>Cast</th>\n",
       "      <th>Genre</th>\n",
       "      <th>Plot</th>\n",
       "      <th>embeddings</th>\n",
       "    </tr>\n",
       "  </thead>\n",
       "  <tbody>\n",
       "    <tr>\n",
       "      <th>0</th>\n",
       "      <td>1975</td>\n",
       "      <td>b'The Candy Tangerine Man'</td>\n",
       "      <td>American</td>\n",
       "      <td>b'Matt Cimber'</td>\n",
       "      <td>b'John Daniels Eli Haines Tom Hankason'</td>\n",
       "      <td>action</td>\n",
       "      <td>b'A successful Los Angeles-based businessperso...</td>\n",
       "      <td>[-0.06835173815488815, -0.01313861645758152, -...</td>\n",
       "    </tr>\n",
       "    <tr>\n",
       "      <th>1</th>\n",
       "      <td>1975</td>\n",
       "      <td>b'Capone'</td>\n",
       "      <td>American</td>\n",
       "      <td>b'Steve Carver'</td>\n",
       "      <td>b'Ben Gazzara Susan Blakely John Cassavetes Sy...</td>\n",
       "      <td>crime drama</td>\n",
       "      <td>b'The story is of the rise and fall of the Chi...</td>\n",
       "      <td>[-0.014117980375885963, 0.0407051146030426, -0...</td>\n",
       "    </tr>\n",
       "    <tr>\n",
       "      <th>2</th>\n",
       "      <td>1975</td>\n",
       "      <td>b'Cleopatra Jones and the Casino of Gold'</td>\n",
       "      <td>American</td>\n",
       "      <td>b'Charles Bail'</td>\n",
       "      <td>b'Tamara Dobson Stella Stevens'</td>\n",
       "      <td>action</td>\n",
       "      <td>b'The story begins with two government agents ...</td>\n",
       "      <td>[-0.09258949756622314, 0.011885089799761772, -...</td>\n",
       "    </tr>\n",
       "    <tr>\n",
       "      <th>3</th>\n",
       "      <td>1975</td>\n",
       "      <td>b'Conduct Unbecoming'</td>\n",
       "      <td>American</td>\n",
       "      <td>b'Michael Anderson'</td>\n",
       "      <td>b'Stacy Keach Richard Attenborough Christopher...</td>\n",
       "      <td>drama</td>\n",
       "      <td>b'Around 1880 two young British officers arriv...</td>\n",
       "      <td>[-0.07435084134340286, -0.06386178731918335, 0...</td>\n",
       "    </tr>\n",
       "    <tr>\n",
       "      <th>4</th>\n",
       "      <td>1975</td>\n",
       "      <td>b'Cooley High'</td>\n",
       "      <td>American</td>\n",
       "      <td>b'Michael Schultz'</td>\n",
       "      <td>b'Lawrence Hilton-Jacobs Glynn Turman Garrett ...</td>\n",
       "      <td>comedy</td>\n",
       "      <td>b'Set in 1964 Chicago Preach an aspiring playw...</td>\n",
       "      <td>[-0.041632335633039474, 0.0379236564040184, -0...</td>\n",
       "    </tr>\n",
       "  </tbody>\n",
       "</table>\n",
       "</div>"
      ],
      "text/plain": [
       "   ReleaseYear                                      Title    Origin  \\\n",
       "0         1975                 b'The Candy Tangerine Man'  American   \n",
       "1         1975                                  b'Capone'  American   \n",
       "2         1975  b'Cleopatra Jones and the Casino of Gold'  American   \n",
       "3         1975                      b'Conduct Unbecoming'  American   \n",
       "4         1975                             b'Cooley High'  American   \n",
       "\n",
       "              Director                                               Cast  \\\n",
       "0       b'Matt Cimber'            b'John Daniels Eli Haines Tom Hankason'   \n",
       "1      b'Steve Carver'  b'Ben Gazzara Susan Blakely John Cassavetes Sy...   \n",
       "2      b'Charles Bail'                    b'Tamara Dobson Stella Stevens'   \n",
       "3  b'Michael Anderson'  b'Stacy Keach Richard Attenborough Christopher...   \n",
       "4   b'Michael Schultz'  b'Lawrence Hilton-Jacobs Glynn Turman Garrett ...   \n",
       "\n",
       "         Genre                                               Plot  \\\n",
       "0       action  b'A successful Los Angeles-based businessperso...   \n",
       "1  crime drama  b'The story is of the rise and fall of the Chi...   \n",
       "2       action  b'The story begins with two government agents ...   \n",
       "3        drama  b'Around 1880 two young British officers arriv...   \n",
       "4       comedy  b'Set in 1964 Chicago Preach an aspiring playw...   \n",
       "\n",
       "                                          embeddings  \n",
       "0  [-0.06835173815488815, -0.01313861645758152, -...  \n",
       "1  [-0.014117980375885963, 0.0407051146030426, -0...  \n",
       "2  [-0.09258949756622314, 0.011885089799761772, -...  \n",
       "3  [-0.07435084134340286, -0.06386178731918335, 0...  \n",
       "4  [-0.041632335633039474, 0.0379236564040184, -0...  "
      ]
     },
     "execution_count": 24,
     "metadata": {},
     "output_type": "execute_result"
    }
   ],
   "source": [
    "show_df(table.query())"
   ]
  },
  {
   "cell_type": "markdown",
   "metadata": {},
   "source": [
    "### Run Filtered Similarity Search on Vector DB"
   ]
  },
  {
   "cell_type": "code",
   "execution_count": 26,
   "metadata": {},
   "outputs": [
    {
     "name": "stderr",
     "output_type": "stream",
     "text": [
      "C:\\Users\\Utsav\\AppData\\Local\\Packages\\PythonSoftwareFoundation.Python.3.11_qbz5n2kfra8p0\\LocalCache\\local-packages\\Python311\\site-packages\\tqdm\\auto.py:21: TqdmWarning: IProgress not found. Please update jupyter and ipywidgets. See https://ipywidgets.readthedocs.io/en/stable/user_install.html\n",
      "  from .autonotebook import tqdm as notebook_tqdm\n",
      "C:\\Users\\Utsav\\AppData\\Local\\Packages\\PythonSoftwareFoundation.Python.3.11_qbz5n2kfra8p0\\LocalCache\\local-packages\\Python311\\site-packages\\numpy\\core\\getlimits.py:549: UserWarning: The value of the smallest subnormal for <class 'numpy.float64'> type is zero.\n",
      "  setattr(self, word, getattr(machar, word).flat[0])\n",
      "C:\\Users\\Utsav\\AppData\\Local\\Packages\\PythonSoftwareFoundation.Python.3.11_qbz5n2kfra8p0\\LocalCache\\local-packages\\Python311\\site-packages\\numpy\\core\\getlimits.py:89: UserWarning: The value of the smallest subnormal for <class 'numpy.float64'> type is zero.\n",
      "  return self._float_to_str(self.smallest_subnormal)\n",
      "C:\\Users\\Utsav\\AppData\\Local\\Packages\\PythonSoftwareFoundation.Python.3.11_qbz5n2kfra8p0\\LocalCache\\local-packages\\Python311\\site-packages\\numpy\\core\\getlimits.py:549: UserWarning: The value of the smallest subnormal for <class 'numpy.float32'> type is zero.\n",
      "  setattr(self, word, getattr(machar, word).flat[0])\n",
      "C:\\Users\\Utsav\\AppData\\Local\\Packages\\PythonSoftwareFoundation.Python.3.11_qbz5n2kfra8p0\\LocalCache\\local-packages\\Python311\\site-packages\\numpy\\core\\getlimits.py:89: UserWarning: The value of the smallest subnormal for <class 'numpy.float32'> type is zero.\n",
      "  return self._float_to_str(self.smallest_subnormal)\n",
      "C:\\Users\\Utsav\\AppData\\Local\\Packages\\PythonSoftwareFoundation.Python.3.11_qbz5n2kfra8p0\\LocalCache\\local-packages\\Python311\\site-packages\\huggingface_hub\\file_download.py:140: UserWarning: `huggingface_hub` cache-system uses symlinks by default to efficiently store duplicated files but your machine does not support them in C:\\Users\\Utsav\\.cache\\huggingface\\hub\\models--sentence-transformers--all-MiniLM-L6-v2. Caching files will still work but in a degraded version that might require more space on your disk. This warning can be disabled by setting the `HF_HUB_DISABLE_SYMLINKS_WARNING` environment variable. For more details, see https://huggingface.co/docs/huggingface_hub/how-to-cache#limitations.\n",
      "To support symlinks on Windows, you either need to activate Developer Mode or to run Python as an administrator. In order to activate developer mode, see this article: https://docs.microsoft.com/en-us/windows/apps/get-started/enable-your-device-for-development\n",
      "  warnings.warn(message)\n"
     ]
    }
   ],
   "source": [
    "from sentence_transformers import SentenceTransformer\n",
    "embedding_model = SentenceTransformer('all-MiniLM-L6-v2')"
   ]
  },
  {
   "cell_type": "code",
   "execution_count": 32,
   "metadata": {},
   "outputs": [
    {
     "name": "stderr",
     "output_type": "stream",
     "text": [
      "Batches: 100%|██████████| 1/1 [00:00<00:00, 31.51it/s]\n"
     ]
    }
   ],
   "source": [
    "query_vector = {'flat_index' : [embedding_model.encode('Fukrey Returns or Shahrukh Khan').tolist()]}"
   ]
  },
  {
   "cell_type": "code",
   "execution_count": 33,
   "metadata": {},
   "outputs": [
    {
     "data": {
      "text/plain": [
       "[   __nn_distance  ReleaseYear                     Title     Origin  \\\n",
       " 0       1.008340         2002  b'Maine Dil Tujhko Diya'  Bollywood   \n",
       " 1       1.038002         2008                  b'Hello'  Bollywood   \n",
       " 2       1.059718         2010                b'Ishqiya'  Bollywood   \n",
       " \n",
       "               Director                                               Cast  \\\n",
       " 0       b'Sohail Khan'  b'Sohail Khan Sameera Reddy Sanjay Dutt Kabir ...   \n",
       " 1    b'Atul Agnihotri'  b'Sohail Khan Sharman Joshi Amrita Arora Gul P...   \n",
       " 2  b'Abhishek Chaubey'       b'Naseeruddin Shah Vidya Balan Arshad Warsi'   \n",
       " \n",
       "                   Genre                                               Plot  \\\n",
       " 0        action romance  b'Ajay (Sohail Khan) is head of his college gr...   \n",
       " 1        drama romance   b'Salman Khan is a Bollywood actor who is on a...   \n",
       " 2  comedy crime romance  b'Ishqiya starts with Krishna Verma (Vidya Bal...   \n",
       " \n",
       "                                           embeddings  \n",
       " 0  [-0.0923900306224823, 0.01712009310722351, -0....  \n",
       " 1  [-0.06707476824522018, -0.06101248040795326, 0...  \n",
       " 2  [-0.09600114077329636, 0.02684173732995987, -0...  ]"
      ]
     },
     "execution_count": 33,
     "metadata": {},
     "output_type": "execute_result"
    }
   ],
   "source": [
    "table.search(vectors=query_vector, n=3)"
   ]
  },
  {
   "cell_type": "code",
   "execution_count": 34,
   "metadata": {},
   "outputs": [
    {
     "name": "stdout",
     "output_type": "stream",
     "text": [
      "[   __nn_distance  ReleaseYear               Title     Origin  \\\n",
      "0       1.456516         2017  b'Tiger Zinda Hai'  Bollywood   \n",
      "\n",
      "             Director                           Cast         Genre  \\\n",
      "0  b'Ali Abbas Zafar'  b'Salman Khan & Katrina Kaif'  action/drama   \n",
      "\n",
      "                                                Plot  \\\n",
      "0  b'During a dark night in Iraq an American jour...   \n",
      "\n",
      "                                          embeddings  \n",
      "0  [-0.06913218647241592, 0.016035260632634163, -...  ]\n"
     ]
    }
   ],
   "source": [
    "print(table.search(vectors=query_vector, n=3, filter=[(\"like\", \"Director\", \"Ali Abbas Zafar\"),(\">\", \"ReleaseYear\", 2015)]))"
   ]
  },
  {
   "cell_type": "code",
   "execution_count": 35,
   "metadata": {},
   "outputs": [],
   "source": [
    "table.drop()"
   ]
  },
  {
   "cell_type": "code",
   "execution_count": null,
   "metadata": {},
   "outputs": [],
   "source": []
  }
 ],
 "metadata": {
  "kernelspec": {
   "display_name": "Python 3",
   "language": "python",
   "name": "python3"
  },
  "language_info": {
   "codemirror_mode": {
    "name": "ipython",
    "version": 3
   },
   "file_extension": ".py",
   "mimetype": "text/x-python",
   "name": "python",
   "nbconvert_exporter": "python",
   "pygments_lexer": "ipython3",
   "version": "3.11.9"
  }
 },
 "nbformat": 4,
 "nbformat_minor": 2
}
